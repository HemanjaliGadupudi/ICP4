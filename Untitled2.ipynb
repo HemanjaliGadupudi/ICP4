{
  "nbformat": 4,
  "nbformat_minor": 0,
  "metadata": {
    "colab": {
      "provenance": [],
      "authorship_tag": "ABX9TyO9zCdp8TRahsrVbF+XPtJf",
      "include_colab_link": true
    },
    "kernelspec": {
      "name": "python3",
      "display_name": "Python 3"
    },
    "language_info": {
      "name": "python"
    }
  },
  "cells": [
    {
      "cell_type": "markdown",
      "metadata": {
        "id": "view-in-github",
        "colab_type": "text"
      },
      "source": [
        "<a href=\"https://colab.research.google.com/github/HemanjaliGadupudi/ICP4/blob/main/Untitled2.ipynb\" target=\"_parent\"><img src=\"https://colab.research.google.com/assets/colab-badge.svg\" alt=\"Open In Colab\"/></a>"
      ]
    },
    {
      "cell_type": "code",
      "source": [
        "import pandas as pd\n",
        "import numpy as np\n",
        "\n",
        "data = {\n",
        "    'ID': np.arange(1, 1000001),  # 1 million IDs\n",
        "    'Value': np.random.rand(1000000),  # 1 million random values\n",
        "    'Category': np.random.choice(['A', 'B', 'C', 'D'], size=1000000)  # Random categories\n",
        "}\n",
        "\n",
        "df = pd.DataFrame(data)\n"
      ],
      "metadata": {
        "id": "tBVVuWikxzKV"
      },
      "execution_count": 6,
      "outputs": []
    },
    {
      "cell_type": "code",
      "source": [
        "print(df.head(10))\n"
      ],
      "metadata": {
        "colab": {
          "base_uri": "https://localhost:8080/"
        },
        "id": "6sZFHnuex6DH",
        "outputId": "6306acf2-48a8-41ee-e5dd-8bc1425381d1"
      },
      "execution_count": 7,
      "outputs": [
        {
          "output_type": "stream",
          "name": "stdout",
          "text": [
            "   ID     Value Category\n",
            "0   1  0.581455        A\n",
            "1   2  0.964990        B\n",
            "2   3  0.529931        A\n",
            "3   4  0.427187        C\n",
            "4   5  0.266202        D\n",
            "5   6  0.164315        C\n",
            "6   7  0.389142        D\n",
            "7   8  0.098086        B\n",
            "8   9  0.448755        B\n",
            "9  10  0.748347        A\n"
          ]
        }
      ]
    },
    {
      "cell_type": "code",
      "source": [
        "print(df['Value'])\n"
      ],
      "metadata": {
        "colab": {
          "base_uri": "https://localhost:8080/"
        },
        "id": "tbaA9ZiKx9sb",
        "outputId": "c97fb6f6-e71b-4a24-ab00-75dfa7d49aa8"
      },
      "execution_count": 8,
      "outputs": [
        {
          "output_type": "stream",
          "name": "stdout",
          "text": [
            "0         0.581455\n",
            "1         0.964990\n",
            "2         0.529931\n",
            "3         0.427187\n",
            "4         0.266202\n",
            "            ...   \n",
            "999995    0.523576\n",
            "999996    0.896409\n",
            "999997    0.896688\n",
            "999998    0.918558\n",
            "999999    0.882715\n",
            "Name: Value, Length: 1000000, dtype: float64\n"
          ]
        }
      ]
    },
    {
      "cell_type": "code",
      "source": [
        "df.columns = ['ID number', 'Random value', 'Choice']\n",
        "print(df.head(5))\n"
      ],
      "metadata": {
        "colab": {
          "base_uri": "https://localhost:8080/"
        },
        "id": "kTrGBgGcyE5v",
        "outputId": "1d0f150c-393e-4a43-cc3f-29964569f00b"
      },
      "execution_count": 9,
      "outputs": [
        {
          "output_type": "stream",
          "name": "stdout",
          "text": [
            "   ID number  Random value Choice\n",
            "0          1      0.581455      A\n",
            "1          2      0.964990      B\n",
            "2          3      0.529931      A\n",
            "3          4      0.427187      C\n",
            "4          5      0.266202      D\n"
          ]
        }
      ]
    },
    {
      "cell_type": "code",
      "source": [
        "import pandas as pd\n",
        "\n",
        "pd.set_option('display.max_rows', None)\n",
        "# pd.set_option('display.max_columns', None)  # Optional: for wider display\n",
        "\n",
        "student_data = pd.DataFrame({\n",
        "    'school_code': ['s001', 's002', 's003', 's001', 's002', 's004'],\n",
        "    'class': ['V', 'V', 'VI', 'VI', 'VI', 'VI'],\n",
        "    'name': ['Alberto Franco', 'Gino Mcneill', 'Ryan Parkes', 'Eesha Hinton', 'Gino Mcneill', 'David Parkes'],\n",
        "    'date_Of_Birth': ['15/05/2002', '17/05/2002', '16/02/1999', '25/09/1998', '11/05/2002', '15/09/1997'],\n",
        "    'age': [12, 12, 13, 14, 13, 14],\n",
        "    'height': [173, 192, 186, 167, 159, 151],\n",
        "    'weight': [35, 32, 30, 45, 42, 41],\n",
        "    'address': ['street1', 'street2', 'street3', 'street1', 'street2', 'street4']\n",
        "}, index=['S1', 'S2', 'S3', 'S4', 'S5', 'S6'])\n",
        "\n",
        "print(\"Original DataFrame:\")\n",
        "print(student_data)\n",
        "\n",
        "print(\"\\nSplit the said data on school_code, class wise:\")\n",
        "result = student_data.groupby(['school_code', 'class'])\n",
        "\n",
        "for name, group in result:\n",
        "    print(\"\\nGroup:\", name)\n",
        "    print(group)\n"
      ],
      "metadata": {
        "colab": {
          "base_uri": "https://localhost:8080/"
        },
        "id": "tL9vUYixyONy",
        "outputId": "b066e313-7c39-4613-e366-1d65c55a7290"
      },
      "execution_count": 10,
      "outputs": [
        {
          "output_type": "stream",
          "name": "stdout",
          "text": [
            "Original DataFrame:\n",
            "   school_code class            name date_Of_Birth  age  height  weight  \\\n",
            "S1        s001     V  Alberto Franco    15/05/2002   12     173      35   \n",
            "S2        s002     V    Gino Mcneill    17/05/2002   12     192      32   \n",
            "S3        s003    VI     Ryan Parkes    16/02/1999   13     186      30   \n",
            "S4        s001    VI    Eesha Hinton    25/09/1998   14     167      45   \n",
            "S5        s002    VI    Gino Mcneill    11/05/2002   13     159      42   \n",
            "S6        s004    VI    David Parkes    15/09/1997   14     151      41   \n",
            "\n",
            "    address  \n",
            "S1  street1  \n",
            "S2  street2  \n",
            "S3  street3  \n",
            "S4  street1  \n",
            "S5  street2  \n",
            "S6  street4  \n",
            "\n",
            "Split the said data on school_code, class wise:\n",
            "\n",
            "Group: ('s001', 'V')\n",
            "   school_code class            name date_Of_Birth  age  height  weight  \\\n",
            "S1        s001     V  Alberto Franco    15/05/2002   12     173      35   \n",
            "\n",
            "    address  \n",
            "S1  street1  \n",
            "\n",
            "Group: ('s001', 'VI')\n",
            "   school_code class          name date_Of_Birth  age  height  weight  address\n",
            "S4        s001    VI  Eesha Hinton    25/09/1998   14     167      45  street1\n",
            "\n",
            "Group: ('s002', 'V')\n",
            "   school_code class          name date_Of_Birth  age  height  weight  address\n",
            "S2        s002     V  Gino Mcneill    17/05/2002   12     192      32  street2\n",
            "\n",
            "Group: ('s002', 'VI')\n",
            "   school_code class          name date_Of_Birth  age  height  weight  address\n",
            "S5        s002    VI  Gino Mcneill    11/05/2002   13     159      42  street2\n",
            "\n",
            "Group: ('s003', 'VI')\n",
            "   school_code class         name date_Of_Birth  age  height  weight  address\n",
            "S3        s003    VI  Ryan Parkes    16/02/1999   13     186      30  street3\n",
            "\n",
            "Group: ('s004', 'VI')\n",
            "   school_code class          name date_Of_Birth  age  height  weight  address\n",
            "S6        s004    VI  David Parkes    15/09/1997   14     151      41  street4\n"
          ]
        }
      ]
    },
    {
      "cell_type": "code",
      "source": [
        "# df = pd.read_csv('data.csv') # Removed this line as the dataframe 'df' is already created\n",
        "print(\"First rows:\\n\", df.head(), \"\\n\")"
      ],
      "metadata": {
        "colab": {
          "base_uri": "https://localhost:8080/"
        },
        "id": "KJQUEzmEy_1N",
        "outputId": "3805df21-1621-4c1f-bb46-b5872a68daa7"
      },
      "execution_count": 15,
      "outputs": [
        {
          "output_type": "stream",
          "name": "stdout",
          "text": [
            "First rows:\n",
            "    ID number  Random value Choice\n",
            "0          1      0.581455      A\n",
            "1          2      0.964990      B\n",
            "2          3      0.529931      A\n",
            "3          4      0.427187      C\n",
            "4          5      0.266202      D \n",
            "\n"
          ]
        }
      ]
    },
    {
      "cell_type": "code",
      "source": [
        "print(df.describe())\n"
      ],
      "metadata": {
        "colab": {
          "base_uri": "https://localhost:8080/"
        },
        "id": "5GMmB59ozzJI",
        "outputId": "976a25c3-5662-4433-e3ce-9feee559cb29"
      },
      "execution_count": 16,
      "outputs": [
        {
          "output_type": "stream",
          "name": "stdout",
          "text": [
            "            ID number  Random value\n",
            "count  1000000.000000  1.000000e+06\n",
            "mean    500000.500000  4.997792e-01\n",
            "std     288675.278933  2.887171e-01\n",
            "min          1.000000  1.028882e-07\n",
            "25%     250000.750000  2.497687e-01\n",
            "50%     500000.500000  4.997946e-01\n",
            "75%     750000.250000  7.499335e-01\n",
            "max    1000000.000000  9.999991e-01\n"
          ]
        }
      ]
    },
    {
      "cell_type": "code",
      "source": [
        "print(df.isnull().sum())\n"
      ],
      "metadata": {
        "colab": {
          "base_uri": "https://localhost:8080/"
        },
        "id": "DHEHgwLTz5no",
        "outputId": "7e613abb-f664-46c6-ec86-8e811530f5ab"
      },
      "execution_count": 17,
      "outputs": [
        {
          "output_type": "stream",
          "name": "stdout",
          "text": [
            "ID number       0\n",
            "Random value    0\n",
            "Choice          0\n",
            "dtype: int64\n"
          ]
        }
      ]
    },
    {
      "cell_type": "code",
      "source": [
        "df.fillna(df.mean(numeric_only=True), inplace=True)\n"
      ],
      "metadata": {
        "id": "jTprCk1Jz988"
      },
      "execution_count": 18,
      "outputs": []
    },
    {
      "cell_type": "code",
      "source": [
        "agg_stats = df[['ID number', 'Random value']].agg(['min', 'max', 'count', 'mean'])\n",
        "print(\"Aggregated stats:\\n\", agg_stats, \"\\n\")"
      ],
      "metadata": {
        "colab": {
          "base_uri": "https://localhost:8080/"
        },
        "id": "hvCXkFuS0WQy",
        "outputId": "0a8b1dfa-f4ad-444b-d642-0d5f75d1f3db"
      },
      "execution_count": 24,
      "outputs": [
        {
          "output_type": "stream",
          "name": "stdout",
          "text": [
            "Aggregated stats:\n",
            "        ID number  Random value\n",
            "min          1.0  1.028882e-07\n",
            "max    1000000.0  9.999991e-01\n",
            "count  1000000.0  1.000000e+06\n",
            "mean    500000.5  4.997792e-01 \n",
            "\n"
          ]
        }
      ]
    },
    {
      "cell_type": "code",
      "source": [
        "# Correcting the column name from 'Calories' to 'Random value'\n",
        "cal_range = df[(df['Random value'] >= 0.5) & (df['Random value'] <= 1.0)]\n",
        "print(f\"Rows with 0.5 ≤ Random value ≤ 1.0: {len(cal_range)} rows\\n\", cal_range.head(), \"\\n\")"
      ],
      "metadata": {
        "colab": {
          "base_uri": "https://localhost:8080/"
        },
        "id": "2nJDCOpe06_8",
        "outputId": "d64ff5fa-263b-4299-bc94-ea614c392252"
      },
      "execution_count": 28,
      "outputs": [
        {
          "output_type": "stream",
          "name": "stdout",
          "text": [
            "Rows with 0.5 ≤ Random value ≤ 1.0: 499803 rows\n",
            "     ID number  Random value Choice\n",
            "0           1      0.581455      A\n",
            "1           2      0.964990      B\n",
            "2           3      0.529931      A\n",
            "9          10      0.748347      A\n",
            "10         11      0.535145      A \n",
            "\n"
          ]
        }
      ]
    },
    {
      "cell_type": "code",
      "source": [
        "# Correcting the column names from 'Calories' and 'Pulse' to 'Random value'\n",
        "sel = df[df['Random value'] > 0.5] # Example: filtering where Random value is greater than 0.5\n",
        "print(f\"Rows with Random value > 0.5: {len(sel)} rows\\n\", sel.head(), \"\\n\")"
      ],
      "metadata": {
        "colab": {
          "base_uri": "https://localhost:8080/"
        },
        "id": "XE0DK68I1DTs",
        "outputId": "40141707-ef11-4eb6-983a-1555cde05dac"
      },
      "execution_count": 30,
      "outputs": [
        {
          "output_type": "stream",
          "name": "stdout",
          "text": [
            "Rows with Random value > 0.5: 499803 rows\n",
            "     ID number  Random value Choice\n",
            "0           1      0.581455      A\n",
            "1           2      0.964990      B\n",
            "2           3      0.529931      A\n",
            "9          10      0.748347      A\n",
            "10         11      0.535145      A \n",
            "\n"
          ]
        }
      ]
    },
    {
      "cell_type": "code",
      "source": [
        "# df_modified = df.drop(columns=['Maxpulse']) # Removed line attempting to drop non-existent column\n",
        "print(df.head()) # Printing the original df as no column was dropped"
      ],
      "metadata": {
        "colab": {
          "base_uri": "https://localhost:8080/"
        },
        "id": "LG2phhO51b5w",
        "outputId": "47cfaf4a-12cf-4314-9410-28d015076515"
      },
      "execution_count": 32,
      "outputs": [
        {
          "output_type": "stream",
          "name": "stdout",
          "text": [
            "   ID number  Random value Choice\n",
            "0          1      0.581455      A\n",
            "1          2      0.964990      B\n",
            "2          3      0.529931      A\n",
            "3          4      0.427187      C\n",
            "4          5      0.266202      D\n"
          ]
        }
      ]
    },
    {
      "cell_type": "code",
      "source": [
        "# df.drop(columns=['Maxpulse'], inplace=True) # Removed line attempting to drop non-existent column\n",
        "print(\"Original df now has columns:\", df.columns, \"\\n\")"
      ],
      "metadata": {
        "colab": {
          "base_uri": "https://localhost:8080/"
        },
        "id": "elztDkGU2MfF",
        "outputId": "537a4d91-ff37-445f-9979-7591b6bc967a"
      },
      "execution_count": 35,
      "outputs": [
        {
          "output_type": "stream",
          "name": "stdout",
          "text": [
            "Original df now has columns: Index(['ID number', 'Random value', 'Choice'], dtype='object') \n",
            "\n"
          ]
        }
      ]
    },
    {
      "cell_type": "code",
      "source": [
        "# df['Calories'] = df['Calories'].astype(int) # Removed line attempting to access non-existent column\n",
        "print(\"No 'Calories' column to convert. DataFrame columns are:\", df.columns, \"\\n\")"
      ],
      "metadata": {
        "colab": {
          "base_uri": "https://localhost:8080/"
        },
        "id": "0W68SuDQ2jpW",
        "outputId": "ebfad440-8aec-41fe-b46d-9f6c8f12c46a"
      },
      "execution_count": 38,
      "outputs": [
        {
          "output_type": "stream",
          "name": "stdout",
          "text": [
            "No 'Calories' column to convert. DataFrame columns are: Index(['ID number', 'Random value', 'Choice'], dtype='object') \n",
            "\n"
          ]
        }
      ]
    },
    {
      "cell_type": "code",
      "source": [
        "import matplotlib.pyplot as plt\n",
        "\n",
        "plt.scatter(df['ID number'], df['Random value'], color='blue')\n",
        "plt.title('ID number vs Random value')\n",
        "plt.xlabel('ID number')\n",
        "plt.ylabel('Random value')\n",
        "plt.grid(True)\n",
        "plt.show()"
      ],
      "metadata": {
        "colab": {
          "base_uri": "https://localhost:8080/",
          "height": 472
        },
        "id": "nY6dEAEJ3gJi",
        "outputId": "b149f9b9-7edd-48f4-8baa-dbcaefb5a7a2"
      },
      "execution_count": 44,
      "outputs": [
        {
          "output_type": "display_data",
          "data": {
            "text/plain": [
              "<Figure size 640x480 with 1 Axes>"
            ],
            "image/png": "[encoded data removed]"
          },
          "metadata": {}
        }
      ]
    }
  ]
}